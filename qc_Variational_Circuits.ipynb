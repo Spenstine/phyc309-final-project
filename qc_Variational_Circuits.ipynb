{
 "cells": [
  {
   "cell_type": "markdown",
   "metadata": {},
   "source": [
    "### Get relevant libraries \\& packages"
   ]
  },
  {
   "cell_type": "code",
   "execution_count": 2,
   "metadata": {},
   "outputs": [],
   "source": [
    "import itertools\n",
    "import numpy as np\n",
    "import matplotlib.pyplot as plt\n",
    "from qiskit import Aer, QuantumRegister, ClassicalRegister, QuantumCircuit, execute\n",
    "from qiskit.tools.visualization import circuit_drawer, plot_histogram\n",
    "from scipy.optimize import minimize\n",
    "np.set_printoptions(precision=3, suppress=True)"
   ]
  },
  {
   "cell_type": "code",
   "execution_count": 11,
   "metadata": {},
   "outputs": [],
   "source": [
    "%matplotlib inline"
   ]
  },
  {
   "cell_type": "markdown",
   "metadata": {},
   "source": [
    "### Simple hamiltonian (mixing + cost), parameterized by one \\gamma = beta = 0 "
   ]
  },
  {
   "cell_type": "code",
   "execution_count": 12,
   "metadata": {},
   "outputs": [],
   "source": [
    "backend = Aer.get_backend('qasm_simulator')"
   ]
  },
  {
   "cell_type": "code",
   "execution_count": 13,
   "metadata": {},
   "outputs": [],
   "source": [
    "gamma = 0\n",
    "beta = 0\n",
    "q = QuantumRegister(2, \"q\")\n",
    "c = ClassicalRegister(2, \"c\")\n",
    "circuit = QuantumCircuit(q, c)\n",
    "\n",
    "for i in range(2):\n",
    "    circuit.h(q[i])\n",
    "\n",
    "circuit.cx(q[0],q[1])\n",
    "circuit.rz(2*gamma,q[1])\n",
    "circuit.cx(q[0],q[1])\n",
    "circuit.rx(2*beta, q[0])\n",
    "circuit.rx(2*beta, q[1])\n",
    "\n",
    "\n",
    "circuit.measure(q, c)\n",
    "shots = 500\n",
    "job = execute(circuit, backend, shots=shots)\n",
    "\n",
    "result = job.result().get_counts(circuit)\n",
    "\n",
    "fig = circuit.draw('mpl')\n",
    "#fig.savefig(\"../images/varCircs.png\")"
   ]
  },
  {
   "cell_type": "code",
   "execution_count": 14,
   "metadata": {},
   "outputs": [],
   "source": [
    "def evaluate_quantum_cost_hamiltonian(beta_gamma):\n",
    "    \n",
    "# extract the beta's and the gamma's from the single parameter np.array\n",
    "    n = len(beta_gamma)//2\n",
    "    beta  = beta_gamma[:n]\n",
    "    gamma = beta_gamma[n:]\n",
    "\n",
    "# Define a 'clean' circuit and initiate the qubits to a full superposition initial state\n",
    "    q = QuantumRegister(n_qubits)\n",
    "    c = ClassicalRegister(n_qubits)\n",
    "    circuit = QuantumCircuit(q, c)\n",
    "    \n",
    "    for i in range(n_qubits):\n",
    "        circuit.h(q[i])\n",
    "\n",
    "    for i in range(p):\n",
    "        # apply gamma's\n",
    "        circuit.cx(q[0],q[1])\n",
    "        circuit.rz(2*gamma[i],q[1])\n",
    "        circuit.cx(q[0],q[1])\n",
    "        # apply beta's\n",
    "        circuit.rx(2*beta[i], q[0])\n",
    "        circuit.rx(2*beta[i], q[1])\n",
    "        \n",
    "   \n",
    "    circuit.measure(q, c)\n",
    "    shots = 500\n",
    "    job = execute(circuit, backend, shots=shots)\n",
    "\n",
    "    result = job.result().get_counts(circuit)\n",
    "\n",
    "# compute expectation\n",
    "    H_expectation = 0\n",
    "    for i in range(n_qubits):\n",
    "        for j in range(n_qubits):\n",
    "            multiplicity = result.get(str(i)+str(j), 0)\n",
    "            H_expectation -= multiplicity*(2*i-1)*(2*j-1)\n",
    "\n",
    "    H_expectation /= shots\n",
    "    return np.real(H_expectation)"
   ]
  },
  {
   "cell_type": "code",
   "execution_count": 15,
   "metadata": {},
   "outputs": [
    {
     "data": {
      "text/plain": [
       " message: Optimization terminated successfully.\n",
       " success: True\n",
       "  status: 1\n",
       "     fun: -0.964\n",
       "       x: [ 4.110e+00  4.201e+00  4.008e-01  5.963e+00]\n",
       "    nfev: 47\n",
       "   maxcv: 0.0"
      ]
     },
     "execution_count": 15,
     "metadata": {},
     "output_type": "execute_result"
    }
   ],
   "source": [
    "p = 2\n",
    "n_qubits = 2\n",
    "beta = np.random.uniform(0, 2*np.pi, p)\n",
    "gamma = np.random.uniform(0, 2*np.pi, p)\n",
    "\n",
    "result = minimize(evaluate_quantum_cost_hamiltonian, np.concatenate([beta, gamma]), method='COBYLA')\n",
    "result"
   ]
  },
  {
   "cell_type": "code",
   "execution_count": 16,
   "metadata": {},
   "outputs": [
    {
     "data": {
      "text/plain": [
       "<qiskit.circuit.instructionset.InstructionSet at 0x2c6fb8c57f0>"
      ]
     },
     "execution_count": 16,
     "metadata": {},
     "output_type": "execute_result"
    }
   ],
   "source": [
    "q = QuantumRegister(2)\n",
    "c = ClassicalRegister(2)\n",
    "\n",
    "beta  = result.x[:p]\n",
    "gamma = result.x[p:]\n",
    "\n",
    "#Create the initial state Ψ0  \n",
    "n_qubits = 2\n",
    "circuit = QuantumCircuit(q, c)\n",
    "for i in range(n_qubits):\n",
    "    circuit.h(q[i])    \n",
    "\n",
    "#apply the evolution unitaries\n",
    "for i in range(p):\n",
    "    # apply gamma's\n",
    "    circuit.cx(q[0],q[1])\n",
    "    circuit.rz(-2*gamma[i],q[1])\n",
    "    circuit.cx(q[0],q[1])\n",
    "    # apply beta's\n",
    "    circuit.rx(-2*beta[i], q[0])\n",
    "    circuit.rx(-2*beta[i], q[1])\n",
    "circuit.measure(q, c)"
   ]
  },
  {
   "cell_type": "code",
   "execution_count": 17,
   "metadata": {},
   "outputs": [],
   "source": [
    "job = execute(circuit, backend, shots = 1000)\n",
    "result = job.result().get_counts(circuit)\n",
    "fig = plot_histogram(job.result().get_counts(circuit))\n",
    "#fig.savefig(\"../images/varCircs_state.png\")"
   ]
  },
  {
   "cell_type": "code",
   "execution_count": 18,
   "metadata": {},
   "outputs": [
    {
     "name": "stderr",
     "output_type": "stream",
     "text": [
      "C:\\Users\\spenc\\AppData\\Local\\Temp\\ipykernel_18128\\89474557.py:1: UserWarning: Matplotlib is currently using module://matplotlib_inline.backend_inline, which is a non-GUI backend, so cannot show the figure.\n",
      "  fig.show()\n"
     ]
    }
   ],
   "source": [
    "fig.show()"
   ]
  },
  {
   "cell_type": "code",
   "execution_count": null,
   "metadata": {},
   "outputs": [],
   "source": []
  }
 ],
 "metadata": {
  "kernelspec": {
   "display_name": "Python 3 (ipykernel)",
   "language": "python",
   "name": "python3"
  },
  "language_info": {
   "codemirror_mode": {
    "name": "ipython",
    "version": 3
   },
   "file_extension": ".py",
   "mimetype": "text/x-python",
   "name": "python",
   "nbconvert_exporter": "python",
   "pygments_lexer": "ipython3",
   "version": "3.8.16"
  }
 },
 "nbformat": 4,
 "nbformat_minor": 4
}
